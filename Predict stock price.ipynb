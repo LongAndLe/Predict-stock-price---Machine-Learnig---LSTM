{
 "cells": [
  {
   "cell_type": "code",
   "execution_count": 153,
   "metadata": {},
   "outputs": [],
   "source": [
    "import math\n",
    "import numpy as np\n",
    "import pandas as pd\n",
    "from sklearn.preprocessing import MinMaxScaler\n",
    "from tensorflow.keras.models import Sequential\n",
    "from tensorflow.keras.layers import Dense, LSTM\n",
    "import matplotlib.pyplot as plt\n",
    "import yfinance as yf\n",
    "plt.style.use('fivethirtyeight')\n"
   ]
  },
  {
   "attachments": {},
   "cell_type": "markdown",
   "metadata": {},
   "source": [
    "# 1, Load data "
   ]
  },
  {
   "cell_type": "code",
   "execution_count": 154,
   "metadata": {},
   "outputs": [
    {
     "name": "stdout",
     "output_type": "stream",
     "text": [
      "[*********************100%***********************]  1 of 1 completed\n"
     ]
    },
    {
     "data": {
      "text/html": [
       "<div>\n",
       "<style scoped>\n",
       "    .dataframe tbody tr th:only-of-type {\n",
       "        vertical-align: middle;\n",
       "    }\n",
       "\n",
       "    .dataframe tbody tr th {\n",
       "        vertical-align: top;\n",
       "    }\n",
       "\n",
       "    .dataframe thead th {\n",
       "        text-align: right;\n",
       "    }\n",
       "</style>\n",
       "<table border=\"1\" class=\"dataframe\">\n",
       "  <thead>\n",
       "    <tr style=\"text-align: right;\">\n",
       "      <th></th>\n",
       "      <th>Open</th>\n",
       "      <th>High</th>\n",
       "      <th>Low</th>\n",
       "      <th>Close</th>\n",
       "      <th>Adj Close</th>\n",
       "      <th>Volume</th>\n",
       "    </tr>\n",
       "    <tr>\n",
       "      <th>Date</th>\n",
       "      <th></th>\n",
       "      <th></th>\n",
       "      <th></th>\n",
       "      <th></th>\n",
       "      <th></th>\n",
       "      <th></th>\n",
       "    </tr>\n",
       "  </thead>\n",
       "  <tbody>\n",
       "    <tr>\n",
       "      <th>2002-06-03</th>\n",
       "      <td>25.495001</td>\n",
       "      <td>25.820000</td>\n",
       "      <td>24.584999</td>\n",
       "      <td>24.709999</td>\n",
       "      <td>15.416524</td>\n",
       "      <td>88439000</td>\n",
       "    </tr>\n",
       "    <tr>\n",
       "      <th>2002-06-04</th>\n",
       "      <td>24.750000</td>\n",
       "      <td>25.615000</td>\n",
       "      <td>24.620001</td>\n",
       "      <td>24.990000</td>\n",
       "      <td>15.591218</td>\n",
       "      <td>88008400</td>\n",
       "    </tr>\n",
       "    <tr>\n",
       "      <th>2002-06-05</th>\n",
       "      <td>25.215000</td>\n",
       "      <td>25.875000</td>\n",
       "      <td>25.165001</td>\n",
       "      <td>25.830000</td>\n",
       "      <td>16.115297</td>\n",
       "      <td>66969400</td>\n",
       "    </tr>\n",
       "    <tr>\n",
       "      <th>2002-06-06</th>\n",
       "      <td>25.750000</td>\n",
       "      <td>26.070000</td>\n",
       "      <td>25.000000</td>\n",
       "      <td>25.950001</td>\n",
       "      <td>16.190157</td>\n",
       "      <td>78703400</td>\n",
       "    </tr>\n",
       "    <tr>\n",
       "      <th>2002-06-07</th>\n",
       "      <td>24.945000</td>\n",
       "      <td>26.299999</td>\n",
       "      <td>24.930000</td>\n",
       "      <td>25.990000</td>\n",
       "      <td>16.215115</td>\n",
       "      <td>97834400</td>\n",
       "    </tr>\n",
       "    <tr>\n",
       "      <th>...</th>\n",
       "      <td>...</td>\n",
       "      <td>...</td>\n",
       "      <td>...</td>\n",
       "      <td>...</td>\n",
       "      <td>...</td>\n",
       "      <td>...</td>\n",
       "    </tr>\n",
       "    <tr>\n",
       "      <th>2023-04-10</th>\n",
       "      <td>289.209991</td>\n",
       "      <td>289.600006</td>\n",
       "      <td>284.709991</td>\n",
       "      <td>289.390015</td>\n",
       "      <td>289.390015</td>\n",
       "      <td>23103000</td>\n",
       "    </tr>\n",
       "    <tr>\n",
       "      <th>2023-04-11</th>\n",
       "      <td>285.750000</td>\n",
       "      <td>285.980011</td>\n",
       "      <td>281.640015</td>\n",
       "      <td>282.829987</td>\n",
       "      <td>282.829987</td>\n",
       "      <td>27276600</td>\n",
       "    </tr>\n",
       "    <tr>\n",
       "      <th>2023-04-12</th>\n",
       "      <td>284.790009</td>\n",
       "      <td>287.010010</td>\n",
       "      <td>281.959991</td>\n",
       "      <td>283.489990</td>\n",
       "      <td>283.489990</td>\n",
       "      <td>27403400</td>\n",
       "    </tr>\n",
       "    <tr>\n",
       "      <th>2023-04-13</th>\n",
       "      <td>283.589996</td>\n",
       "      <td>289.899994</td>\n",
       "      <td>283.170013</td>\n",
       "      <td>289.839996</td>\n",
       "      <td>289.839996</td>\n",
       "      <td>24222700</td>\n",
       "    </tr>\n",
       "    <tr>\n",
       "      <th>2023-04-14</th>\n",
       "      <td>287.000000</td>\n",
       "      <td>288.480011</td>\n",
       "      <td>283.690002</td>\n",
       "      <td>286.140015</td>\n",
       "      <td>286.140015</td>\n",
       "      <td>20973900</td>\n",
       "    </tr>\n",
       "  </tbody>\n",
       "</table>\n",
       "<p>5254 rows × 6 columns</p>\n",
       "</div>"
      ],
      "text/plain": [
       "                  Open        High         Low       Close   Adj Close  \\\n",
       "Date                                                                     \n",
       "2002-06-03   25.495001   25.820000   24.584999   24.709999   15.416524   \n",
       "2002-06-04   24.750000   25.615000   24.620001   24.990000   15.591218   \n",
       "2002-06-05   25.215000   25.875000   25.165001   25.830000   16.115297   \n",
       "2002-06-06   25.750000   26.070000   25.000000   25.950001   16.190157   \n",
       "2002-06-07   24.945000   26.299999   24.930000   25.990000   16.215115   \n",
       "...                ...         ...         ...         ...         ...   \n",
       "2023-04-10  289.209991  289.600006  284.709991  289.390015  289.390015   \n",
       "2023-04-11  285.750000  285.980011  281.640015  282.829987  282.829987   \n",
       "2023-04-12  284.790009  287.010010  281.959991  283.489990  283.489990   \n",
       "2023-04-13  283.589996  289.899994  283.170013  289.839996  289.839996   \n",
       "2023-04-14  287.000000  288.480011  283.690002  286.140015  286.140015   \n",
       "\n",
       "              Volume  \n",
       "Date                  \n",
       "2002-06-03  88439000  \n",
       "2002-06-04  88008400  \n",
       "2002-06-05  66969400  \n",
       "2002-06-06  78703400  \n",
       "2002-06-07  97834400  \n",
       "...              ...  \n",
       "2023-04-10  23103000  \n",
       "2023-04-11  27276600  \n",
       "2023-04-12  27403400  \n",
       "2023-04-13  24222700  \n",
       "2023-04-14  20973900  \n",
       "\n",
       "[5254 rows x 6 columns]"
      ]
     },
     "execution_count": 154,
     "metadata": {},
     "output_type": "execute_result"
    }
   ],
   "source": [
    "# Import data\n",
    "df = yf.download('MSFT', start='2002-06-03', end='2023-04-16')\n",
    "\n",
    "# Show data\n",
    "df"
   ]
  },
  {
   "cell_type": "code",
   "execution_count": 155,
   "metadata": {},
   "outputs": [
    {
     "data": {
      "image/png": "[encoded data removed]",
      "text/plain": [
       "<Figure size 1200x600 with 1 Axes>"
      ]
     },
     "metadata": {},
     "output_type": "display_data"
    }
   ],
   "source": [
    "## Visualize the closing price history\n",
    "\n",
    "# Draw data on the chart . X - date, Y - close price\n",
    "plt.plot(df.index, df['Close'])\n",
    "\n",
    "# Set size for the chart\n",
    "plt.gcf().set_size_inches(12, 6)\n",
    "\n",
    "# set the title and axis labels\n",
    "plt.title('Close Prices over time of Microsoft')\n",
    "plt.xlabel('Date')\n",
    "plt.ylabel('Close Price (USD)')\n",
    "\n",
    "# show the plot\n",
    "plt.show()"
   ]
  },
  {
   "attachments": {},
   "cell_type": "markdown",
   "metadata": {},
   "source": [
    "# 2, Prepare data to train"
   ]
  },
  {
   "cell_type": "code",
   "execution_count": 156,
   "metadata": {},
   "outputs": [
    {
     "data": {
      "text/plain": [
       "4204"
      ]
     },
     "execution_count": 156,
     "metadata": {},
     "output_type": "execute_result"
    }
   ],
   "source": [
    "#create a new dataframe with only the 'Close' column\n",
    "data = df.filter(['Close'])\n",
    "\n",
    "#convert the dataframe to a numpy array\n",
    "dataset = data.values\n",
    "\n",
    "#get the number of rows to train the model on\n",
    "training_data_len = math.ceil( len(dataset) * .8) # Train 80% of the data \n",
    "\n",
    "training_data_len"
   ]
  },
  {
   "cell_type": "code",
   "execution_count": 157,
   "metadata": {},
   "outputs": [
    {
     "data": {
      "text/plain": [
       "array([[0.0291499 ],\n",
       "       [0.03000366],\n",
       "       [0.03256495],\n",
       "       ...,\n",
       "       [0.81820954],\n",
       "       [0.83757168],\n",
       "       [0.82628987]])"
      ]
     },
     "execution_count": 157,
     "metadata": {},
     "output_type": "execute_result"
    }
   ],
   "source": [
    "## Scale the data\n",
    "scaler = MinMaxScaler(feature_range=(0,1)) # Range of values data only between 0 and 1\n",
    "scaled_data = scaler.fit_transform(dataset) # method to scale the data \n",
    "\n",
    "# Example: [10, 20, 30, 35, 40, 90]\n",
    "# After scaling with:\n",
    "# scaler = MinMaxScaler(feature_range=(0, 1))\n",
    "# scaled_data = scaler.fit_transform(data) ?\n",
    "# => Output :  [0  0.11111111  0.22222222  0.27777778  0.33333333  1 ]\n",
    "\n",
    "\n",
    "scaled_data "
   ]
  },
  {
   "cell_type": "code",
   "execution_count": 158,
   "metadata": {},
   "outputs": [
    {
     "name": "stdout",
     "output_type": "stream",
     "text": [
      "[array([0.0291499 , 0.03000366, 0.03256495, 0.03293085, 0.03305281,\n",
      "       0.03433346, 0.03395231, 0.03848031, 0.03646787, 0.03803818,\n",
      "       0.03869375, 0.03916637, 0.03668131, 0.03628491, 0.03351018,\n",
      "       0.03637639, 0.03453165, 0.03633065, 0.03753507, 0.03719966,\n",
      "       0.03408953, 0.03222954, 0.03283937, 0.03742835, 0.03448591,\n",
      "       0.03492804, 0.03344921, 0.03447067, 0.03286987, 0.03277839,\n",
      "       0.03193987, 0.03308331, 0.03172643, 0.02936334, 0.02623796,\n",
      "       0.01937736, 0.0242865 , 0.01910294, 0.02294487, 0.02736614,\n",
      "       0.02713746, 0.02695451, 0.0235547 , 0.02151177, 0.02087145,\n",
      "       0.02343274, 0.02559764, 0.02837236, 0.02716795, 0.02770155,\n",
      "       0.0255519 , 0.02959202, 0.0296835 , 0.03003415, 0.03308331,\n",
      "       0.03161971, 0.03351018, 0.03495853, 0.03341871, 0.03323576])]\n",
      "[0.03131479724518501]\n",
      "\n",
      "[array([0.0291499 , 0.03000366, 0.03256495, 0.03293085, 0.03305281,\n",
      "       0.03433346, 0.03395231, 0.03848031, 0.03646787, 0.03803818,\n",
      "       0.03869375, 0.03916637, 0.03668131, 0.03628491, 0.03351018,\n",
      "       0.03637639, 0.03453165, 0.03633065, 0.03753507, 0.03719966,\n",
      "       0.03408953, 0.03222954, 0.03283937, 0.03742835, 0.03448591,\n",
      "       0.03492804, 0.03344921, 0.03447067, 0.03286987, 0.03277839,\n",
      "       0.03193987, 0.03308331, 0.03172643, 0.02936334, 0.02623796,\n",
      "       0.01937736, 0.0242865 , 0.01910294, 0.02294487, 0.02736614,\n",
      "       0.02713746, 0.02695451, 0.0235547 , 0.02151177, 0.02087145,\n",
      "       0.02343274, 0.02559764, 0.02837236, 0.02716795, 0.02770155,\n",
      "       0.0255519 , 0.02959202, 0.0296835 , 0.03003415, 0.03308331,\n",
      "       0.03161971, 0.03351018, 0.03495853, 0.03341871, 0.03323576]), array([0.03000366, 0.03256495, 0.03293085, 0.03305281, 0.03433346,\n",
      "       0.03395231, 0.03848031, 0.03646787, 0.03803818, 0.03869375,\n",
      "       0.03916637, 0.03668131, 0.03628491, 0.03351018, 0.03637639,\n",
      "       0.03453165, 0.03633065, 0.03753507, 0.03719966, 0.03408953,\n",
      "       0.03222954, 0.03283937, 0.03742835, 0.03448591, 0.03492804,\n",
      "       0.03344921, 0.03447067, 0.03286987, 0.03277839, 0.03193987,\n",
      "       0.03308331, 0.03172643, 0.02936334, 0.02623796, 0.01937736,\n",
      "       0.0242865 , 0.01910294, 0.02294487, 0.02736614, 0.02713746,\n",
      "       0.02695451, 0.0235547 , 0.02151177, 0.02087145, 0.02343274,\n",
      "       0.02559764, 0.02837236, 0.02716795, 0.02770155, 0.0255519 ,\n",
      "       0.02959202, 0.0296835 , 0.03003415, 0.03308331, 0.03161971,\n",
      "       0.03351018, 0.03495853, 0.03341871, 0.03323576, 0.0313148 ])]\n",
      "[0.03131479724518501, 0.02908891733912059]\n",
      "\n"
     ]
    }
   ],
   "source": [
    "## create the training dataset\n",
    "\n",
    "#Create the scaled training data set based on the scaled data in the previous step\n",
    "train_data = scaled_data[0:training_data_len  , : ] \n",
    "# '0:training_data_len'  means that the ROWS from the beginning to the training_data_len are selected\n",
    "#  ':'  means that ALL COLUMNS are selected.\n",
    "\n",
    "#Split the data into x_train and y_train data sets\n",
    "x_train = []\n",
    "y_train = []\n",
    "\n",
    "for i in range(60,len(train_data)):\n",
    "    x_train.append(train_data[i-60:i,0]) # 60 previous i row values in the column index = 0 - column 0 is first column\n",
    "    y_train.append(train_data[i,0]) # 61st value of the column 0 \n",
    "    if i<= 61:# print the first 61 values \n",
    "        print(x_train)\n",
    "        print(y_train)\n",
    "        print()\n"
   ]
  },
  {
   "attachments": {},
   "cell_type": "markdown",
   "metadata": {},
   "source": [
    "### Note :Build model predicts price based on last 60 days so create training dataset into parts, each part contains 60 values\n"
   ]
  },
  {
   "cell_type": "code",
   "execution_count": 159,
   "metadata": {},
   "outputs": [],
   "source": [
    "# Convert the x_train and y_train to numpy arrays\n",
    "x_train = np.array(x_train)\n",
    "y_train = np.array(y_train)"
   ]
  },
  {
   "cell_type": "code",
   "execution_count": 160,
   "metadata": {},
   "outputs": [
    {
     "data": {
      "text/plain": [
       "(4144, 60, 1)"
      ]
     },
     "execution_count": 160,
     "metadata": {},
     "output_type": "execute_result"
    }
   ],
   "source": [
    "# Reshape the data because LSTM model in 3 dimensions but numpy array in 2 dimensions\n",
    "# Convert numpy array => 3 Dimensions array\n",
    "x_train = np.reshape(x_train, (x_train.shape[0],x_train.shape[1],1)) \n",
    "#x_train.shape[0] = 4144 , x_train.shape[1] = 60 , 1 is the number of features ( only have 1 feature = 'Close')\n",
    "\n",
    "x_train.shape"
   ]
  },
  {
   "attachments": {},
   "cell_type": "markdown",
   "metadata": {},
   "source": [
    "# 3, Build and train the model"
   ]
  },
  {
   "attachments": {},
   "cell_type": "markdown",
   "metadata": {},
   "source": [
    "## Task a : Build the model"
   ]
  },
  {
   "cell_type": "code",
   "execution_count": 161,
   "metadata": {},
   "outputs": [],
   "source": [
    "## Build the LSTM model\n",
    "\n",
    "### What is LSTM?\n",
    "# The LSTM layer is a type of recurrent neural network (RNN) layer that is commonly used for sequence processing tasks, \n",
    "# such as time series prediction, speech recognition, and natural language processing.\n",
    "# The LSTM layer is capable of capturing long-term dependencies in the input sequence \n",
    "# by allowing information to be retained or forgotten over time. \n",
    "# This is achieved through the use of \"MEMORY CELLS\" and \"GATES\", \n",
    "# which control the flow of information through the layer.\n",
    "\n",
    "# Example :\n",
    "# model = Sequential()\n",
    "# model.add(LSTM(64, input_shape=(10, 1))) # LSTM layer with 64 memory cells\n",
    "# model.add(Dense(1, activation='sigmoid')) # Output layer with 1 neuron\n",
    "# Explain:\n",
    "# The LSTM layer is configured to have 64 MEMORY CELLS and an input shape of (10, 1), \n",
    "# which means it will take in a sequence of 10 time steps, each with 1 feature. \n",
    "# Finally, we add a dense OUTPUT layer with 1 neuron and a sigmoid activation function.\n",
    "\n",
    "\n",
    "#  Create the model\n",
    "model = Sequential()  \n",
    "#the Sequential class is used to define a linear stack of layers that make up a deep learning model. \n",
    "#It is a wrapper for the neural network model that provides an easy-to-use interface for creating and managing models.\n",
    "\n",
    "# Add the first LSTM layer \n",
    "model.add(LSTM(50, return_sequences=True, input_shape = (x_train.shape[1],1))) \n",
    "# 50 neurons, return_sequences = True because we have more than one LSTM layer\n",
    "# input_shape is the time step, x_train.shape[1] = 60 is the number of features, repeat 1 time\n",
    "\n",
    "# Add the second LSTM layer\n",
    "model.add(LSTM(50, return_sequences=False)) \n",
    "# 50 neurons, return_sequences = False because that layer returns only the last output in the output sequence\n",
    "\n",
    "# Add the third, four layer \n",
    "model.add(Dense(25)) # 25 neurons\n",
    "# The dense layer receives input from the previous layer \n",
    "# and applies a linear transformation to produce a new set of outputs.\n",
    "\n",
    "model.add(Dense(1)) # 1 neuron\n",
    "# This adds a final dense layer with 1 neuron. \n",
    "# This is the output layer of the model, which produces a single continuous output value\n"
   ]
  },
  {
   "cell_type": "code",
   "execution_count": 162,
   "metadata": {},
   "outputs": [],
   "source": [
    "\n",
    "# Compile the model\n",
    "model.compile(optimizer='adam', loss='mean_squared_error')\n",
    "# compile() function is used to configure the learning process of a model\n",
    "# It takes three main arguments: optimizer, loss, and metrics.\n",
    "\n",
    "# optimizer is the optimization algorithm used during training\n",
    "# 'adam' optimizer is a popular choice in deep learning \n",
    "# because it adapts the learning rate during training and works well for many problems.\n",
    "# during training, the model will use the 'adam' algorithm to optimize the weights and biases\n",
    "\n",
    "# loss argument is used to specify the loss function that the model will minimize during training. \n",
    "# The 'mean_squared_error' loss function is a common choice for regression problems, \n",
    "# the goal is to minimize the mean squared error between the predicted and actual values.\n"
   ]
  },
  {
   "attachments": {},
   "cell_type": "markdown",
   "metadata": {},
   "source": [
    "## Task b: Train the model"
   ]
  },
  {
   "cell_type": "code",
   "execution_count": 163,
   "metadata": {},
   "outputs": [
    {
     "name": "stdout",
     "output_type": "stream",
     "text": [
      "Epoch 1/4\n",
      "4144/4144 [==============================] - 230s 53ms/step - loss: 9.3487e-05\n",
      "Epoch 2/4\n",
      "4144/4144 [==============================] - 221s 53ms/step - loss: 4.0853e-05\n",
      "Epoch 3/4\n",
      "4144/4144 [==============================] - 225s 54ms/step - loss: 3.5425e-05\n",
      "Epoch 4/4\n",
      "4144/4144 [==============================] - 222s 54ms/step - loss: 2.4539e-05\n"
     ]
    },
    {
     "data": {
      "text/plain": [
       "<keras.callbacks.History at 0x2d7e070dc90>"
      ]
     },
     "execution_count": 163,
     "metadata": {},
     "output_type": "execute_result"
    }
   ],
   "source": [
    "## Train the model\n",
    "model.fit(x_train, y_train, batch_size=1, epochs=4)\n",
    "\n",
    "# model.fit() is a method trains the neural network model with the specified input data (x_train) and target data (y_train). \n",
    "# The training process involves updating the weights and biases of the model based on the input data and the output produced by the model.\n",
    "# x_train: The input data used for training the model.\n",
    "# y_train: The target data used for training the model.\n",
    "# batch_size: The number of samples processed before the model is updated\n",
    "# example: Initially the data has 120 rows, \n",
    "# batch_size=3 => You will be tranning the first 40 rows, batch_size = 2 => 60 rows\n",
    "# epochs: The number of times the model is trained on the entire dataset. \n",
    "# An epoch is considered complete when the model has processed all of the training data once."
   ]
  },
  {
   "cell_type": "code",
   "execution_count": 164,
   "metadata": {},
   "outputs": [],
   "source": [
    "# create the testing data set\n",
    "\n",
    "# Create a new array containing scaled values from index 4144( the train data shape[0]) to 5254 ( end)\n",
    "test_data = scaled_data[training_data_len - 60: , : ]\n",
    "# 'training_data_len - 60 : '  means that the ROWS from the training_data_len - 60 to end are selected\n",
    "#  ':'  means that ALL COLUMNS are selected.\n",
    "\n",
    "# Create the data sets x_test and y_test\n",
    "x_test = []\n",
    "y_test =  dataset[training_data_len : , : ]\n",
    "\n",
    "# Add value for x_test\n",
    "for i in range(60,len(test_data)):\n",
    "    x_test.append(test_data[i-60:i,0]) \n",
    "    # 60 previous i row values in the column index = '0' - column 0 is first column\n"
   ]
  },
  {
   "cell_type": "code",
   "execution_count": 165,
   "metadata": {},
   "outputs": [],
   "source": [
    "# convert the data to a numpy array\n",
    "x_test = np.array(x_test)"
   ]
  },
  {
   "cell_type": "code",
   "execution_count": 166,
   "metadata": {},
   "outputs": [],
   "source": [
    "# Reshape the numpy array to 3 dimensions\n",
    "x_test = np.reshape(x_test, (x_test.shape[0],x_test.shape[1],1))\n",
    "# 1 is the number of features ( only have 1 feature = 'Close')"
   ]
  },
  {
   "cell_type": "code",
   "execution_count": 167,
   "metadata": {},
   "outputs": [
    {
     "name": "stdout",
     "output_type": "stream",
     "text": [
      "33/33 [==============================] - 6s 45ms/step\n"
     ]
    }
   ],
   "source": [
    "# Get the models predicted price values\n",
    "\n",
    "# Predict the values\n",
    "predictions = model.predict(x_test) \n",
    "# predict() function is used to predict the output for the input samples based on the trained model.\n",
    "\n",
    "# Unscale the data\n",
    "predictions = scaler.inverse_transform(predictions) "
   ]
  },
  {
   "attachments": {},
   "cell_type": "markdown",
   "metadata": {},
   "source": [
    "# 4, Backtesting the model"
   ]
  },
  {
   "cell_type": "code",
   "execution_count": 168,
   "metadata": {},
   "outputs": [
    {
     "data": {
      "text/plain": [
       "8.43848429428632"
      ]
     },
     "execution_count": 168,
     "metadata": {},
     "output_type": "execute_result"
    }
   ],
   "source": [
    "## Checking the average deviation between the predicted values and the actual values\n",
    "\n",
    "# Get the root mean squared error (RMSE)\n",
    "# RMSE  is a measure of the average deviation between the predicted values and the actual values in a dataset. \n",
    "# It is a commonly used evaluation metric in regression analysis, machine learning and other predictive modeling tasks.\n",
    "# Fomula: RMSE = sqrt(mean((y_pred - y_true)^2))\n",
    "rmse = np.sqrt(np.mean(((predictions - y_test) ** 2)))\n",
    "rmse"
   ]
  },
  {
   "attachments": {},
   "cell_type": "markdown",
   "metadata": {},
   "source": [
    "### The 2 way to reduce average deviation \n",
    "### Method 1: is to increase the trained data - is increase 'tranning_data_len' in part Prepare data\n",
    "### Method 2: train the data many times - is increase 'epochs'  in  ' model.fit(x_train, y_train, batch_size=1, epochs=2)'\n",
    "### Method 1 helps to reduce deviation much more method 2 \n",
    "## => WE NEED BIG DATA\n",
    "\n"
   ]
  },
  {
   "cell_type": "code",
   "execution_count": 169,
   "metadata": {},
   "outputs": [
    {
     "name": "stderr",
     "output_type": "stream",
     "text": [
      "C:\\Users\\Long\\AppData\\Local\\Temp\\ipykernel_2328\\4154377626.py:6: SettingWithCopyWarning: \n",
      "A value is trying to be set on a copy of a slice from a DataFrame.\n",
      "Try using .loc[row_indexer,col_indexer] = value instead\n",
      "\n",
      "See the caveats in the documentation: https://pandas.pydata.org/pandas-docs/stable/user_guide/indexing.html#returning-a-view-versus-a-copy\n",
      "  valid_data['Predictions'] = predictions\n"
     ]
    },
    {
     "data": {
      "image/png": "[encoded data removed]",
      "text/plain": [
       "<Figure size 1200x600 with 1 Axes>"
      ]
     },
     "metadata": {},
     "output_type": "display_data"
    }
   ],
   "source": [
    "## Visualize the data\n",
    "\n",
    "# Create the data for the graph\n",
    "train_data = data[:training_data_len] # Trained data\n",
    "valid_data = data[training_data_len:] # Valid_data use to valid the trained data\n",
    "valid_data['Predictions'] = predictions\n",
    "\n",
    "# Draw the line chart with X- axis is Date, Y- axis is Close Price of the train data \n",
    "plt.plot(train_data['Close'])\n",
    "\n",
    "# Draw the line chart with X- axis is Date, Y- axis is Close Price and Predict Price of the Predict data \n",
    "plt.plot(valid_data[['Close', 'Predictions']])\n",
    "\n",
    "# Set size for the chart\n",
    "plt.gcf().set_size_inches(12, 6)\n",
    "\n",
    "# Set title for the chart\n",
    "plt.title('Model')\n",
    "plt.xlabel('Date')\n",
    "plt.ylabel('Close Price (USD)')\n",
    "plt.legend(['Train', 'Valid', 'Predictions'], loc='upper left') \n",
    "\n",
    "plt.show()\n"
   ]
  },
  {
   "cell_type": "code",
   "execution_count": 170,
   "metadata": {},
   "outputs": [
    {
     "data": {
      "text/html": [
       "<div>\n",
       "<style scoped>\n",
       "    .dataframe tbody tr th:only-of-type {\n",
       "        vertical-align: middle;\n",
       "    }\n",
       "\n",
       "    .dataframe tbody tr th {\n",
       "        vertical-align: top;\n",
       "    }\n",
       "\n",
       "    .dataframe thead th {\n",
       "        text-align: right;\n",
       "    }\n",
       "</style>\n",
       "<table border=\"1\" class=\"dataframe\">\n",
       "  <thead>\n",
       "    <tr style=\"text-align: right;\">\n",
       "      <th></th>\n",
       "      <th>Close</th>\n",
       "      <th>Predictions</th>\n",
       "    </tr>\n",
       "    <tr>\n",
       "      <th>Date</th>\n",
       "      <th></th>\n",
       "      <th></th>\n",
       "    </tr>\n",
       "  </thead>\n",
       "  <tbody>\n",
       "    <tr>\n",
       "      <th>2019-02-13</th>\n",
       "      <td>106.809998</td>\n",
       "      <td>111.287399</td>\n",
       "    </tr>\n",
       "    <tr>\n",
       "      <th>2019-02-14</th>\n",
       "      <td>106.900002</td>\n",
       "      <td>111.506325</td>\n",
       "    </tr>\n",
       "    <tr>\n",
       "      <th>2019-02-15</th>\n",
       "      <td>108.220001</td>\n",
       "      <td>111.573524</td>\n",
       "    </tr>\n",
       "    <tr>\n",
       "      <th>2019-02-19</th>\n",
       "      <td>108.169998</td>\n",
       "      <td>112.586830</td>\n",
       "    </tr>\n",
       "    <tr>\n",
       "      <th>2019-02-20</th>\n",
       "      <td>107.150002</td>\n",
       "      <td>112.762177</td>\n",
       "    </tr>\n",
       "    <tr>\n",
       "      <th>...</th>\n",
       "      <td>...</td>\n",
       "      <td>...</td>\n",
       "    </tr>\n",
       "    <tr>\n",
       "      <th>2023-04-10</th>\n",
       "      <td>289.390015</td>\n",
       "      <td>295.485413</td>\n",
       "    </tr>\n",
       "    <tr>\n",
       "      <th>2023-04-11</th>\n",
       "      <td>282.829987</td>\n",
       "      <td>294.898590</td>\n",
       "    </tr>\n",
       "    <tr>\n",
       "      <th>2023-04-12</th>\n",
       "      <td>283.489990</td>\n",
       "      <td>290.194885</td>\n",
       "    </tr>\n",
       "    <tr>\n",
       "      <th>2023-04-13</th>\n",
       "      <td>289.839996</td>\n",
       "      <td>290.047607</td>\n",
       "    </tr>\n",
       "    <tr>\n",
       "      <th>2023-04-14</th>\n",
       "      <td>286.140015</td>\n",
       "      <td>294.816620</td>\n",
       "    </tr>\n",
       "  </tbody>\n",
       "</table>\n",
       "<p>1050 rows × 2 columns</p>\n",
       "</div>"
      ],
      "text/plain": [
       "                 Close  Predictions\n",
       "Date                               \n",
       "2019-02-13  106.809998   111.287399\n",
       "2019-02-14  106.900002   111.506325\n",
       "2019-02-15  108.220001   111.573524\n",
       "2019-02-19  108.169998   112.586830\n",
       "2019-02-20  107.150002   112.762177\n",
       "...                ...          ...\n",
       "2023-04-10  289.390015   295.485413\n",
       "2023-04-11  282.829987   294.898590\n",
       "2023-04-12  283.489990   290.194885\n",
       "2023-04-13  289.839996   290.047607\n",
       "2023-04-14  286.140015   294.816620\n",
       "\n",
       "[1050 rows x 2 columns]"
      ]
     },
     "execution_count": 170,
     "metadata": {},
     "output_type": "execute_result"
    }
   ],
   "source": [
    "# Show the valid and predicted prices\n",
    "valid_data"
   ]
  },
  {
   "attachments": {},
   "cell_type": "markdown",
   "metadata": {},
   "source": [
    "# 5, Predict price for a specific day"
   ]
  },
  {
   "cell_type": "code",
   "execution_count": 171,
   "metadata": {},
   "outputs": [
    {
     "name": "stdout",
     "output_type": "stream",
     "text": [
      "[*********************100%***********************]  1 of 1 completed\n",
      "1/1 [==============================] - 0s 67ms/step\n",
      "[[290.19485]]\n"
     ]
    }
   ],
   "source": [
    "## Example: Predict the price of MSFT on 2023-04-12\n",
    "\n",
    "# Import data \n",
    "df_new = yf.download('MSFT', start='2002-06-03', end='2023-04-12')\n",
    "#create a new dataframe only with the 'Close' column\n",
    "new_data = df_new.filter(['Close'])\n",
    "# Get the last 60 day closing price values and convert the dataframe to an numpy array\n",
    "last_60_days = new_data[-60:].values\n",
    "# Scale the data to be values between 0 and 1\n",
    "last_60_days_scaled = scaler.transform(last_60_days)\n",
    "# Create an test list\n",
    "X_test = []\n",
    "# Add Close Price last 60 days to the test list\n",
    "X_test.append(last_60_days_scaled)\n",
    "# Convert the X_test dataset to a numpy array\n",
    "X_test = np.array(X_test)\n",
    "# Reshape the data => 3 dimensions array\n",
    "X_test = np.reshape(X_test, (X_test.shape[0], X_test.shape[1], 1))\n",
    "# Get the predicted scaled price\n",
    "pred_price = model.predict(X_test)\n",
    "# Undo the scaling\n",
    "pred_price = scaler.inverse_transform(pred_price)\n",
    "print(pred_price) # Print the predicted price"
   ]
  },
  {
   "cell_type": "code",
   "execution_count": 173,
   "metadata": {},
   "outputs": [
    {
     "name": "stdout",
     "output_type": "stream",
     "text": [
      "[*********************100%***********************]  1 of 1 completed\n",
      "Date\n",
      "2023-04-13    289.839996\n",
      "Name: Close, dtype: float64\n"
     ]
    }
   ],
   "source": [
    "# Check the real price\n",
    "df_new2 = yf.download('MSFT', start='2023-04-13', end='2023-04-14')\n",
    "print(df_new2['Close'])"
   ]
  }
 ],
 "metadata": {
  "kernelspec": {
   "display_name": "base",
   "language": "python",
   "name": "python3"
  },
  "language_info": {
   "codemirror_mode": {
    "name": "ipython",
    "version": 3
   },
   "file_extension": ".py",
   "mimetype": "text/x-python",
   "name": "python",
   "nbconvert_exporter": "python",
   "pygments_lexer": "ipython3",
   "version": "3.10.9"
  },
  "orig_nbformat": 4
 },
 "nbformat": 4,
 "nbformat_minor": 2
}
